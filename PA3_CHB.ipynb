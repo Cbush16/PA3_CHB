{
 "cells": [
  {
   "cell_type": "markdown",
   "id": "7ad214f3-1066-41cf-a4d7-882f0337af12",
   "metadata": {},
   "source": [
    "# Programming Assignment 3\n",
    "---\n",
    "**Author:** Caleb Bush  \n",
    "**Version:** 1.0  \n",
    "**Semester:** Spring 2024 \n",
    "\n",
    "This *notebook* contains my solution(s) to **Programming Assignment 3**"
   ]
  },
  {
   "cell_type": "markdown",
   "id": "3949c73c-42be-4145-a1c0-ffa621c7afb9",
   "metadata": {
    "tags": []
   },
   "source": [
    "### : Problem 1 – Geometry Calculator"
   ]
  },
  {
   "cell_type": "code",
   "execution_count": 1,
   "id": "c3c24524-6709-4a1b-855a-208cdd79c0f9",
   "metadata": {
    "tags": []
   },
   "outputs": [],
   "source": [
    "import math"
   ]
  },
  {
   "cell_type": "code",
   "execution_count": 2,
   "id": "5fd90e60-3fbb-48c0-8469-7f2758b9d213",
   "metadata": {
    "tags": []
   },
   "outputs": [
    {
     "name": "stdin",
     "output_type": "stream",
     "text": [
      "Enter which shape you are solving for: 'S' , 'TRI' , 'C' , 'R' , 'E' , 'TRAP'. Type 'Q' to quit. S\n",
      "Enter the length 3\n",
      "Enter which shape you are solving for: 'S' , 'TRI' , 'C' , 'R' , 'E' , 'TRAP'. Type 'Q' to quit. Q\n"
     ]
    }
   ],
   "source": [
    "prompt = input(\"Enter which shape you are solving for: 'S' , 'TRI' , 'C' , 'R' , 'E' , 'TRAP'. Type 'Q' to quit.\")\n",
    "while prompt!=\"Q\":\n",
    "    if prompt == \"S\":\n",
    "        def calculate_square(length):\n",
    "            area = length**2\n",
    "            perimeter = length+length+length+length\n",
    "            return area , perimeter\n",
    "        length = float(input(\"Enter the length\"))\n",
    "        a = calculate_square(length)\n",
    "    elif prompt == \"TRI\":\n",
    "        def calculate_triangle(base,height):\n",
    "            area = (1/2)*base*height\n",
    "            perimeter = (math.sqrt(base**2+height**2)) +base +height\n",
    "            return area, perimeter\n",
    "        base = float(input(\"Enter the base\"))\n",
    "        height = float(input(\"Enter the height\"))\n",
    "        a = calculate_triangle(base,height)\n",
    "    elif prompt == \"C\":\n",
    "        def calculate_circle(radius):\n",
    "            area = math.pi*(radius**2)\n",
    "            perimeter = 2*math.pi*radius\n",
    "            return area, perimeter\n",
    "        radius = float(input(\"Enter the radius\"))\n",
    "        a = calculate_circle(r)\n",
    "    elif prompt == \"R\":\n",
    "        def calculate_rectangle(base,height):\n",
    "            area = base*height\n",
    "            perimeter = 2*(base+height)\n",
    "            return area, perimeter\n",
    "        base = float(input(\"Enter the base\"))\n",
    "        height = float(input(\"Enter the height\"))\n",
    "        a = calculate_rectangle(base,height)\n",
    "    elif prompt == \"E\":\n",
    "        def calculate_eclipse(a,b):\n",
    "            area = math.pi*a*b\n",
    "            perimeter = math.pi*(3*(a+b)-math.sqrt((3*a+b)*(a+3*b)))\n",
    "            return area, perimeter\n",
    "        a = float(input(\"Enter the length for one side 'a'\"))\n",
    "        b = float(input(\"Enter the length for one side 'b'\"))\n",
    "        a = calculate_eclipse(a,b)\n",
    "    elif prompt == \"TRAP\":\n",
    "        def calculate_trapezoid(top,bottom,height):\n",
    "            area = ((top+bottom)/2)*height\n",
    "            perimeter = (2*height) +top+bottom\n",
    "            return area, perimeter\n",
    "        top = float(input(\"Enter the length of the top\"))\n",
    "        bottom = float(input(\"Enter the length of the bottom\"))\n",
    "        height = float(input(\"Enter the height\"))\n",
    "        a = calculate_trapezoid(top,bottom,height)\n",
    "    else:\n",
    "        print(\"That is not a valid option\")\n",
    "    prompt = input(\"Enter which shape you are solving for: 'S' , 'TRI' , 'C' , 'R' , 'E' , 'TRAP'. Type 'Q' to quit.\")"
   ]
  },
  {
   "cell_type": "code",
   "execution_count": 3,
   "id": "24fb1d12-6178-43be-a415-c5a35a96d6bd",
   "metadata": {
    "tags": []
   },
   "outputs": [
    {
     "name": "stdout",
     "output_type": "stream",
     "text": [
      "The area and perimeter for the shape are (9.0, 12.0)\n"
     ]
    }
   ],
   "source": [
    "print(f'The area and perimeter for the shape are {a}')"
   ]
  },
  {
   "cell_type": "markdown",
   "id": "4705376f-2e8d-4313-8bd8-9ede6a04eff9",
   "metadata": {},
   "source": [
    "### Problem 2 – Horse Computations"
   ]
  },
  {
   "cell_type": "code",
   "execution_count": 36,
   "id": "380f4862-6bca-4e47-ae96-9ae081ec6c4c",
   "metadata": {
    "tags": []
   },
   "outputs": [
    {
     "name": "stdin",
     "output_type": "stream",
     "text": [
      "Enter which measurement you are using H for hands or L for lengths. Enter Q to quit: L\n",
      "Enter the number of lengths 3\n"
     ]
    },
    {
     "name": "stdout",
     "output_type": "stream",
     "text": [
      "The number of lengths in feet is 24.0\n"
     ]
    },
    {
     "name": "stdin",
     "output_type": "stream",
     "text": [
      "Enter which measurement you are using H for hands or L for lengths. Enter Q to quit: Q\n"
     ]
    }
   ],
   "source": [
    "def convert_hands(h=5):\n",
    "            feet = (h*4)/12\n",
    "            return feet\n",
    "def convert_length(l=1):\n",
    "            feet = l*8\n",
    "            return feet\n",
    "prompt = input(\"Enter which measurement you are using H for hands or L for lengths. Enter Q to quit:\")\n",
    "while prompt!=\"Q\":\n",
    "    if prompt == \"H\":\n",
    "        h = float(input(\"Enter the number of hands\"))\n",
    "        a = convert_hands(h)\n",
    "        print(f'The number of hands in feet is {a}')\n",
    "    elif prompt == \"L\":\n",
    "        l = float(input(\"Enter the number of lengths\"))\n",
    "        a = convert_length(l)\n",
    "        print(f'The number of lengths in feet is {a}')\n",
    "    else:\n",
    "        print(\"That is not a valid option\")\n",
    "    prompt = input(\"Enter which measurement you are using H for hands or L for lengths. Enter Q to quit:\")"
   ]
  },
  {
   "cell_type": "markdown",
   "id": "17c38155-3d74-43bc-be91-f3407f22944c",
   "metadata": {},
   "source": [
    "### Problem 3 – Mean Temperature"
   ]
  },
  {
   "cell_type": "code",
   "execution_count": 35,
   "id": "977810e8-cac3-439b-8b08-ba501fcdd26b",
   "metadata": {
    "tags": []
   },
   "outputs": [
    {
     "name": "stdout",
     "output_type": "stream",
     "text": [
      "The mean temperature for the last 7 days is 61.44° F\n"
     ]
    }
   ],
   "source": [
    "def meantemp(temp1=55, temp2=80, temp3=60, temp4=53.1, temp5=77, temp6=43, temp7=62):\n",
    "    avg_temp = (temp1 + temp2 + temp3 + temp4 + temp5 + temp6 + temp7)/7\n",
    "    return avg_temp\n",
    "a = meantemp()\n",
    "print(f'The mean temperature for the last 7 days is {a:.2f}\\u00b0 F')"
   ]
  }
 ],
 "metadata": {
  "kernelspec": {
   "display_name": "Python 3 (ipykernel)",
   "language": "python",
   "name": "python3"
  },
  "language_info": {
   "codemirror_mode": {
    "name": "ipython",
    "version": 3
   },
   "file_extension": ".py",
   "mimetype": "text/x-python",
   "name": "python",
   "nbconvert_exporter": "python",
   "pygments_lexer": "ipython3",
   "version": "3.11.5"
  }
 },
 "nbformat": 4,
 "nbformat_minor": 5
}
